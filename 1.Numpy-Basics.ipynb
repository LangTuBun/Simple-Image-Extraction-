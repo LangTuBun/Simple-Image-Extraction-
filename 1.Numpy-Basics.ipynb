{
 "cells": [
  {
   "cell_type": "markdown",
   "metadata": {
    "id": "XXVFI73RIQPn"
   },
   "source": [
    "# Import libraries"
   ]
  },
  {
   "cell_type": "code",
   "execution_count": 1,
   "metadata": {
    "executionInfo": {
     "elapsed": 1919,
     "status": "ok",
     "timestamp": 1681631816253,
     "user": {
      "displayName": "Thanh-Sach LE",
      "userId": "06059813971360496552"
     },
     "user_tz": -420
    },
    "id": "A-XbWTttH7Wp"
   },
   "outputs": [],
   "source": [
    "import os\n",
    "import math\n",
    "import functools as F\n",
    "\n",
    "import numpy as np\n",
    "import pandas as pd\n",
    "import matplotlib.pyplot as plt\n",
    "import seaborn as pd\n"
   ]
  },
  {
   "cell_type": "code",
   "execution_count": 2,
   "metadata": {
    "colab": {
     "base_uri": "https://localhost:8080/"
    },
    "executionInfo": {
     "elapsed": 14133,
     "status": "ok",
     "timestamp": 1681631830382,
     "user": {
      "displayName": "Thanh-Sach LE",
      "userId": "06059813971360496552"
     },
     "user_tz": -420
    },
    "id": "aUg_tkwNKEnj",
    "outputId": "235a67be-99d2-4d12-f2ab-e8e848d0c9c0"
   },
   "outputs": [
    {
     "name": "stderr",
     "output_type": "stream",
     "text": [
      "UsageError: Cell magic `%%shell` not found.\n"
     ]
    }
   ],
   "source": [
    "%%shell\n",
    "pip -q install --upgrade --no-cache-dir gdown\n",
    "gdown -q 1Do8SXKm4rmXW-phHlejV-udLfhSyYgKk\n",
    "echo 'download: done => file: animals10small.zip'\n",
    "rm -rf ./animals10small/\n",
    "unzip -q animals10small.zip\n",
    "echo 'Data files in: /content/animals10small/'"
   ]
  },
  {
   "cell_type": "code",
   "execution_count": null,
   "metadata": {
    "colab": {
     "base_uri": "https://localhost:8080/"
    },
    "executionInfo": {
     "elapsed": 5284,
     "status": "ok",
     "timestamp": 1681631835661,
     "user": {
      "displayName": "Thanh-Sach LE",
      "userId": "06059813971360496552"
     },
     "user_tz": -420
    },
    "id": "1s8fTa7ZQmLV",
    "outputId": "bce290e1-3654-456e-95cb-c188844c0a65"
   },
   "outputs": [
    {
     "name": "stderr",
     "output_type": "stream",
     "text": [
      "'rm' is not recognized as an internal or external command,\n",
      "operable program or batch file.\n",
      "'rm' is not recognized as an internal or external command,\n",
      "operable program or batch file.\n",
      "'wget' is not recognized as an internal or external command,\n",
      "operable program or batch file.\n",
      "'unzip' is not recognized as an internal or external command,\n",
      "operable program or batch file.\n"
     ]
    }
   ],
   "source": [
    "!rm -f bbc-fulltext.zip\n",
    "!rm -rf bbc \n",
    "!wget http://mlg.ucd.ie/files/datasets/bbc-fulltext.zip\n",
    "!unzip -q bbc-fulltext.zip"
   ]
  },
  {
   "cell_type": "markdown",
   "metadata": {
    "id": "NEfObqIDJFf1"
   },
   "source": [
    "# Q.1 - Show arrays's attributes\n",
    "* Requirements:\n",
    "  * Fill code to the following code cells, after **#YOUR CODE IS HERE**, to show the arrays' attributes as shown in the output followed.\n",
    "  "
   ]
  },
  {
   "cell_type": "code",
   "execution_count": 3,
   "metadata": {
    "colab": {
     "base_uri": "https://localhost:8080/"
    },
    "executionInfo": {
     "elapsed": 11,
     "status": "ok",
     "timestamp": 1681631835662,
     "user": {
      "displayName": "Thanh-Sach LE",
      "userId": "06059813971360496552"
     },
     "user_tz": -420
    },
    "id": "j_NV3eocIUFd",
    "outputId": "1bf07499-fe13-476c-d3c9-bb55795ee9c0"
   },
   "outputs": [
    {
     "name": "stdout",
     "output_type": "stream",
     "text": [
      "Type of X, type(X):  <class 'numpy.ndarray'>\n",
      "Shape of X, X.shape: (5,)\n",
      "Element's type, X.dtype: int64\n",
      "Num of dimensions, X.ndim: 1\n"
     ]
    }
   ],
   "source": [
    "X = np.array([10, 20, 5, 15, 8], dtype=np.int64)\n",
    "#YOUR CODE IS HERE\n",
    "print('Type of X, type(X): ', type(X))\n",
    "print('Shape of X, X.shape:', X.shape)\n",
    "print(\"Element's type, X.dtype:\", X.dtype)\n",
    "print('Num of dimensions, X.ndim:', X.ndim)\n"
   ]
  },
  {
   "cell_type": "code",
   "execution_count": 4,
   "metadata": {
    "colab": {
     "base_uri": "https://localhost:8080/"
    },
    "executionInfo": {
     "elapsed": 8,
     "status": "ok",
     "timestamp": 1681631835662,
     "user": {
      "displayName": "Thanh-Sach LE",
      "userId": "06059813971360496552"
     },
     "user_tz": -420
    },
    "id": "1IfNOwPcI7Jb",
    "outputId": "94d23894-eedd-4401-8d9a-ebf6a33089b2"
   },
   "outputs": [
    {
     "name": "stdout",
     "output_type": "stream",
     "text": [
      "Type of X, type(X):  <class 'numpy.ndarray'>\n",
      "Shape of X, X.shape: (2, 3)\n",
      "Element's type, X.dtype: int32\n",
      "Num of dimensions, X.ndim: 2\n"
     ]
    }
   ],
   "source": [
    "X = np.array([\n",
    "    [10, 20, 3],\n",
    "    [2, 2, 8]\n",
    "])\n",
    "#YOUR CODE IS HERE\n",
    "\n",
    "print('Type of X, type(X): ', type(X))\n",
    "print('Shape of X, X.shape:', X.shape)\n",
    "print(\"Element's type, X.dtype:\", X.dtype)\n",
    "print('Num of dimensions, X.ndim:', X.ndim)\n",
    "\n"
   ]
  },
  {
   "cell_type": "markdown",
   "metadata": {
    "id": "CfKsz-6JKQLR"
   },
   "source": [
    "# Q.2- Create arrays from lists | **Dataset: animals10small**"
   ]
  },
  {
   "cell_type": "code",
   "execution_count": 4,
   "metadata": {
    "colab": {
     "base_uri": "https://localhost:8080/"
    },
    "executionInfo": {
     "elapsed": 6,
     "status": "ok",
     "timestamp": 1681631835662,
     "user": {
      "displayName": "Thanh-Sach LE",
      "userId": "06059813971360496552"
     },
     "user_tz": -420
    },
    "id": "5T768aabJrFR",
    "outputId": "806bd704-2c6e-41ba-d9b5-e9c81f60abc8"
   },
   "outputs": [
    {
     "name": "stdout",
     "output_type": "stream",
     "text": [
      "List of the animal's names:\n",
      " ['butterfly', 'cat', 'chicken', 'cow', 'dog', 'elephant', 'horse', 'sheep', 'spider', 'squirrel']\n",
      "Number of files for each animal:\n",
      " [95, 100, 100, 100, 100, 96, 100, 100, 100, 100] <class 'list'>\n"
     ]
    }
   ],
   "source": [
    "# RUN THIS CELL TO CREATE LIST OF THE ANIMAL'S NAME\n",
    "path_to_data = './animals10small/data'\n",
    "class_names = sorted([fname for fname in os.listdir(path_to_data) if not fname.startswith('.')])\n",
    "print(\"List of the animal's names:\\n\", class_names)\n",
    "class_counts = [ len(list(filter(lambda name: name.endswith(\".jpg\") or name.endswith(\".jpeg\"),\n",
    "                                os.listdir(os.path.join(path_to_data, cname))\n",
    "                                )\n",
    "                          )\n",
    "                    )\n",
    "                for cname in class_names]  \n",
    "print(\"Number of files for each animal:\\n\", class_counts)         "
   ]
  },
  {
   "cell_type": "markdown",
   "metadata": {
    "id": "6txraoxaLoJz"
   },
   "source": [
    "## Q2.1- Create an array of the animal's names:\n",
    "* Requirements:\n",
    "  * Fill code to the following code cells, after #YOUR CODE IS HERE, to create an array of the animals' name shown in the output followed.\n"
   ]
  },
  {
   "cell_type": "code",
   "execution_count": null,
   "metadata": {
    "colab": {
     "base_uri": "https://localhost:8080/"
    },
    "executionInfo": {
     "elapsed": 5,
     "status": "ok",
     "timestamp": 1681631835662,
     "user": {
      "displayName": "Thanh-Sach LE",
      "userId": "06059813971360496552"
     },
     "user_tz": -420
    },
    "id": "fCQbEnrULLfT",
    "outputId": "964ac88f-b981-4176-adad-b903991054dc"
   },
   "outputs": [
    {
     "name": "stdout",
     "output_type": "stream",
     "text": [
      "Array of the animal names:  ['butterfly' 'cat' 'chicken' 'cow' 'dog' 'elephant' 'horse' 'sheep'\n",
      " 'spider' 'squirrel']\n",
      "Type of idx2class, type(idx2class):  <class 'numpy.ndarray'>\n",
      "Shape of idx2class, idx2class,shape:  (10,)\n",
      "Element's type, idx2class.dtype.type:  <U9\n",
      "Num of dimensions, idx2class.ndim: 1\n",
      "Animal's names:, idx2class:\n",
      " ['butterfly' 'cat' 'chicken' 'cow' 'dog' 'elephant' 'horse' 'sheep'\n",
      " 'spider' 'squirrel']\n"
     ]
    }
   ],
   "source": [
    "# YOUR CODE IS HERE\n",
    "class_array = np.array(class_names)\n",
    "print('Array of the animal names: ', class_array)\n",
    "print('Type of idx2class, type(idx2class): ', type(class_array))\n",
    "print('Shape of idx2class, idx2class,shape: ',class_array.shape)\n",
    "print(\"Element's type, idx2class.dtype.type: \", class_array.dtype)\n",
    "print('Num of dimensions, idx2class.ndim:', class_array.ndim)\n",
    "print(\"Animal's names:, idx2class:\\n\", class_array)"
   ]
  },
  {
   "cell_type": "markdown",
   "metadata": {
    "id": "_9pbSUC9PfDY"
   },
   "source": [
    "## Q2.2- Create an array of the animal's counts:\n",
    "* Requirements:\n",
    "  * Fill code to the following code cells, after #YOUR CODE IS HERE, to create an array of the animals' counts shown in the output followed."
   ]
  },
  {
   "cell_type": "code",
   "execution_count": null,
   "metadata": {
    "colab": {
     "base_uri": "https://localhost:8080/"
    },
    "executionInfo": {
     "elapsed": 5,
     "status": "ok",
     "timestamp": 1681631835662,
     "user": {
      "displayName": "Thanh-Sach LE",
      "userId": "06059813971360496552"
     },
     "user_tz": -420
    },
    "id": "z3cezPKFMQmj",
    "outputId": "802ba8cd-d741-42f5-c9f0-8a669ab17e48"
   },
   "outputs": [
    {
     "name": "stdout",
     "output_type": "stream",
     "text": [
      "type(class_counts): <class 'numpy.ndarray'>\n",
      "class_counts.shape: (10,)\n",
      "class_counts.dtype: int64\n",
      "class_counts: [ 95 100 100 100 100  96 100 100 100 100]\n"
     ]
    }
   ],
   "source": [
    "# YOUR CODE IS HERE\n",
    "class_counts = np.array(class_counts)\n",
    "print('type(class_counts):', type(class_counts))\n",
    "print('class_counts.shape:', class_counts.shape)\n",
    "print('class_counts.dtype:', class_counts.dtype)\n",
    "print('class_counts:', class_counts)\n"
   ]
  },
  {
   "cell_type": "markdown",
   "metadata": {
    "id": "eGBPim09URjI"
   },
   "source": [
    "## Q.2.3- Visualize the classes' distribution"
   ]
  },
  {
   "cell_type": "markdown",
   "metadata": {
    "id": "tjIwrUceUint"
   },
   "source": [
    "### Q.2.3.1 Sample code\n",
    "The cell followed contains code to show the distribution of fruits."
   ]
  },
  {
   "cell_type": "code",
   "execution_count": null,
   "metadata": {
    "colab": {
     "base_uri": "https://localhost:8080/",
     "height": 391
    },
    "executionInfo": {
     "elapsed": 1077,
     "status": "ok",
     "timestamp": 1681631836735,
     "user": {
      "displayName": "Thanh-Sach LE",
      "userId": "06059813971360496552"
     },
     "user_tz": -420
    },
    "id": "YVfsRl98UwfB",
    "outputId": "0acb4c27-4d8e-4127-df68-0dc292af26ad"
   },
   "outputs": [
    {
     "data": {
      "image/png": "[encoded data removed]",
      "text/plain": [
       "<Figure size 600x400 with 1 Axes>"
      ]
     },
     "metadata": {},
     "output_type": "display_data"
    }
   ],
   "source": [
    "values = np.array([100, 50, 150, 200])\n",
    "labels = [\"Apple\", \"Banna\", \"Cherry\", \"Orange\"]\n",
    "\n",
    "plt.figure(figsize=(6,4))\n",
    "plt.bar(height=values, x=labels)\n",
    "plt.title(\"Distribution of fruits\")\n",
    "plt.show()"
   ]
  },
  {
   "cell_type": "markdown",
   "metadata": {
    "id": "8OoYmo7XUrKk"
   },
   "source": [
    "### Q.2.3.2 Question\n",
    "Fill code into the cell followed, after **#YOUR CODE IS HERE** to show the distribution of animals, as shown in the output cell followed"
   ]
  },
  {
   "cell_type": "code",
   "execution_count": null,
   "metadata": {
    "colab": {
     "base_uri": "https://localhost:8080/",
     "height": 452
    },
    "executionInfo": {
     "elapsed": 10,
     "status": "ok",
     "timestamp": 1681631836735,
     "user": {
      "displayName": "Thanh-Sach LE",
      "userId": "06059813971360496552"
     },
     "user_tz": -420
    },
    "id": "JKyqcW5LT2Y6",
    "outputId": "857efac0-9c9c-476f-837d-050f82d44d0c"
   },
   "outputs": [
    {
     "data": {
      "image/png": "[encoded data removed]",
      "text/plain": [
       "<Figure size 600x400 with 1 Axes>"
      ]
     },
     "metadata": {},
     "output_type": "display_data"
    }
   ],
   "source": [
    "# YOUR CODE IS HERE\n",
    "values = class_counts\n",
    "labels = class_array\n",
    "plt.figure(figsize=(6,4))\n",
    "plt.bar(x =  labels, height=values)\n",
    "plt.title(\"Distribution of animals\")\n",
    "plt.show()"
   ]
  },
  {
   "cell_type": "markdown",
   "metadata": {
    "id": "vJY93DD0Q_26"
   },
   "source": [
    "# Q.3- Create arrays from lists | **Dataset: BBC News**\n",
    "* Requirements:\n",
    "  * Fill code to the following cell to collect all the classes' name stored in variable **path_to_data**\n",
    "    * NOTE-1: class-names are sub-folders of the folder specified in **path_to_data**\n",
    "    * NOTE-2: your have to sort the classes' names ascendingly by alphabet-order\n",
    "* Guideline:\n",
    "  * Copy the idea from Section 2.\n",
    "  * You can use ``os.path.isdir(name)`` to verify whether ``name`` a directory or not \n",
    "  * You filter file names that ends with \".txt\" instead of \".jpg\" or \".jpeg\" in Dataset **animals10small**\n"
   ]
  },
  {
   "cell_type": "code",
   "execution_count": null,
   "metadata": {
    "colab": {
     "base_uri": "https://localhost:8080/"
    },
    "executionInfo": {
     "elapsed": 10,
     "status": "ok",
     "timestamp": 1681631836736,
     "user": {
      "displayName": "Thanh-Sach LE",
      "userId": "06059813971360496552"
     },
     "user_tz": -420
    },
    "id": "0DhbZkCwP5ET",
    "outputId": "d68cbfc4-9cff-48e8-d60b-c3e000b14a35"
   },
   "outputs": [
    {
     "name": "stdout",
     "output_type": "stream",
     "text": [
      "./bbc\\business\n",
      "List of the classes:\n",
      " ['business', 'entertainment', 'politics', 'sport', 'tech']\n",
      "Number of files for each class:\n",
      " [510, 386, 417, 511, 401]\n"
     ]
    }
   ],
   "source": [
    "path_to_data = './bbc'\n",
    "\n",
    "# YOUR CODE IS HERE\n",
    "# print(os.path.join(path_to_data, 'business'))\n",
    "list_of_classes = sorted([fname for fname in os.listdir(path_to_data) if not fname.startswith('.') and not fname.endswith('.TXT')]) \n",
    "print(\"List of the classes:\\n\", list_of_classes)\n",
    "num_file_per_class = [len(os.listdir(os.path.join(path_to_data, cname))) for cname in list_of_classes]\n",
    "print(\"Number of files for each class:\\n\", num_file_per_class)     "
   ]
  },
  {
   "cell_type": "markdown",
   "metadata": {
    "id": "biCoWSafRyos"
   },
   "source": [
    "## Q3.1- Create an array of classes' name:\n",
    "* Requirements:\n",
    "  * Fill code to the following code cells, after #YOUR CODE IS HERE, to create an array of the classes' name shown in the output followed.\n"
   ]
  },
  {
   "cell_type": "code",
   "execution_count": null,
   "metadata": {
    "colab": {
     "base_uri": "https://localhost:8080/"
    },
    "executionInfo": {
     "elapsed": 8,
     "status": "ok",
     "timestamp": 1681631836736,
     "user": {
      "displayName": "Thanh-Sach LE",
      "userId": "06059813971360496552"
     },
     "user_tz": -420
    },
    "id": "DgJ3PxaGRlHM",
    "outputId": "8c097da1-686e-417b-8193-ddb014a75470"
   },
   "outputs": [
    {
     "name": "stdout",
     "output_type": "stream",
     "text": [
      "Array of the classes' names: \n",
      "Type of idx2class, type(idx2class):  <class 'numpy.ndarray'>\n",
      "Shape of idx2class, idx2class.shape: (5,)\n",
      "Element's type, idx2class.dtype.type:  <class 'numpy.str_'>\n",
      "Num of dimensions, idx2class.ndim:  1\n",
      "Classes' names:, idx2class:\n",
      " ['business' 'entertainment' 'politics' 'sport' 'tech']\n"
     ]
    }
   ],
   "source": [
    "# YOUR CODE IS HERE\n",
    "print('Array of the class names:')\n",
    "print('Type of idx2class, type(idx2class): ', type(np.array(list_of_classes)))\n",
    "print('Shape of idx2class, idx2class,shape: ',np.array(list_of_classes).shape)\n",
    "print(\"Element's type, idx2class.dtype.type: \", np.array(list_of_classes).dtype)\n",
    "print('Num of dimensions, idx2class.ndim:', np.array(list_of_classes).ndim)\n",
    "print(\"Class's names:, idx2class:\\n\", np.array(list_of_classes))\n"
   ]
  },
  {
   "cell_type": "markdown",
   "metadata": {
    "id": "hK9rylG-SMTo"
   },
   "source": [
    "## Q2.2- Create an array of the classes' counts:\n",
    "* Requirements:\n",
    "  * Fill code to the following code cells, after #YOUR CODE IS HERE, to create an array of the classes' counts shown in the output followed."
   ]
  },
  {
   "cell_type": "code",
   "execution_count": null,
   "metadata": {
    "colab": {
     "base_uri": "https://localhost:8080/"
    },
    "executionInfo": {
     "elapsed": 6,
     "status": "ok",
     "timestamp": 1681631836736,
     "user": {
      "displayName": "Thanh-Sach LE",
      "userId": "06059813971360496552"
     },
     "user_tz": -420
    },
    "id": "XWfBb-CWSJ5s",
    "outputId": "8c005058-a78d-402d-ac0d-f99c21d34dc5"
   },
   "outputs": [
    {
     "name": "stdout",
     "output_type": "stream",
     "text": [
      "type(class_counts): <class 'numpy.ndarray'>\n",
      "class_counts.shape: (5,)\n",
      "class_counts.dtype: int64\n",
      "class_counts: [510 386 417 511 401]\n"
     ]
    }
   ],
   "source": [
    "# YOUR CODE IS HERE\n",
    "num_file_per_class = np.array(num_file_per_class)\n",
    "print('type(class_counts):', type(num_file_per_class))\n",
    "print('class_counts.shape:', num_file_per_class.shape)\n",
    "print('class_counts.dtype:', num_file_per_class.dtype)\n",
    "print('class_counts:', num_file_per_class)\n"
   ]
  },
  {
   "cell_type": "markdown",
   "metadata": {
    "id": "Kq085eICVxoE"
   },
   "source": [
    "## Q.3.3- Visualize the distribution of news's type\n",
    "Fill code into the cell followed, after **#YOUR CODE IS HERE** to show the distribution of news's type, as shown in the output cell followed"
   ]
  },
  {
   "cell_type": "code",
   "execution_count": null,
   "metadata": {
    "colab": {
     "base_uri": "https://localhost:8080/",
     "height": 452
    },
    "executionInfo": {
     "elapsed": 520,
     "status": "ok",
     "timestamp": 1681631837251,
     "user": {
      "displayName": "Thanh-Sach LE",
      "userId": "06059813971360496552"
     },
     "user_tz": -420
    },
    "id": "DIMcFchaSUBs",
    "outputId": "175e7002-4ad1-4f6b-d156-3f14ffe716ca"
   },
   "outputs": [
    {
     "data": {
      "image/png": "[encoded data removed]",
      "text/plain": [
       "<Figure size 1000x600 with 1 Axes>"
      ]
     },
     "metadata": {},
     "output_type": "display_data"
    }
   ],
   "source": [
    "# YOUR CODE IS HERE\n",
    "plt.figure(figsize=(10,6))\n",
    "plt.bar(x =  list_of_classes, height=num_file_per_class)\n",
    "plt.title(\"Distribution of news's type\")\n",
    "plt.show()\n"
   ]
  },
  {
   "cell_type": "markdown",
   "metadata": {
    "id": "R4Q5I5MZaIpl"
   },
   "source": [
    "# Q.4 - Explore a dataset\n",
    "* Introduction to the dataset:\n",
    "  * Name: Flower\n",
    "  * Link: [https://storage.googleapis.com/download.tensorflow.org/example_images/flower_photos.tgz](https://storage.googleapis.com/download.tensorflow.org/example_images/flower_photos.tgz)\n",
    "* Requrements:\n",
    "  1. Download the dataset into your machine: use ``wget`` (see Section 0). You will have a file: **flower_photos.tgz**\n",
    "  2. Decompress **flower_photos.tgz** to using command: ``tar -xzf flower_photos.tgz``\n",
    "  3. Determine ``class_names`` and ``class_counts``, similar to Section 2 and 3.\n",
    "  4. Show the class distribution\n",
    "\n",
    "* Guideline:\n",
    "  * Create sub-sections similar to Section 2 and 3 for your solutions"
   ]
  },
  {
   "cell_type": "code",
   "execution_count": null,
   "metadata": {
    "colab": {
     "base_uri": "https://localhost:8080/"
    },
    "executionInfo": {
     "elapsed": 13619,
     "status": "ok",
     "timestamp": 1681631850863,
     "user": {
      "displayName": "Thanh-Sach LE",
      "userId": "06059813971360496552"
     },
     "user_tz": -420
    },
    "id": "PlYXAGl_WDWE",
    "outputId": "04ced134-9328-41e7-fbb9-01596e902d13"
   },
   "outputs": [
    {
     "name": "stdout",
     "output_type": "stream",
     "text": [
      "--2023-04-16 07:57:16--  https://storage.googleapis.com/download.tensorflow.org/example_images/flower_photos.tgz\n",
      "Resolving storage.googleapis.com (storage.googleapis.com)... 108.177.97.128, 142.251.8.128, 74.125.23.128, ...\n",
      "Connecting to storage.googleapis.com (storage.googleapis.com)|108.177.97.128|:443... connected.\n",
      "HTTP request sent, awaiting response... 200 OK\n",
      "Length: 228813984 (218M) [application/x-compressed-tar]\n",
      "Saving to: ‘flower_photos.tgz’\n",
      "\n",
      "flower_photos.tgz   100%[===================>] 218.21M  31.4MB/s    in 7.9s    \n",
      "\n",
      "2023-04-16 07:57:24 (27.5 MB/s) - ‘flower_photos.tgz’ saved [228813984/228813984]\n",
      "\n"
     ]
    }
   ],
   "source": [
    "# YOUR CODE IS HERE\n",
    "\n",
    "!rm -f flower_photos.tgz\n",
    "!wget https://storage.googleapis.com/download.tensorflow.org/example_images/flower_photos.tgz\n",
    "!tar -xzf flower_photos.tgz\n",
    "\n"
   ]
  },
  {
   "cell_type": "code",
   "execution_count": 9,
   "metadata": {},
   "outputs": [
    {
     "name": "stdout",
     "output_type": "stream",
     "text": [
      "['daisy', 'dandelion', 'roses', 'sunflowers', 'tulips']\n",
      "List of the flower's names:\n",
      " ['daisy', 'dandelion', 'roses', 'sunflowers', 'tulips']\n",
      "Number of files for each flower:\n",
      " [633, 898, 641, 699, 799]\n"
     ]
    }
   ],
   "source": [
    "path_to_data = './flower_photos'\n",
    "class_names = sorted([fname for fname in os.listdir(path_to_data) if not fname.startswith('.') and not fname.endswith('.txt')])\n",
    "print(class_names)\n",
    "class_counts = [ len(list(filter(lambda name: name.endswith(\".jpg\") or name.endswith(\".jpeg\") or name.endswith(\".png\"),\n",
    "                                os.listdir(os.path.join(path_to_data, cname))\n",
    "                                )\n",
    "                          )\n",
    "                    )\n",
    "                for cname in class_names]\n",
    "print(\"List of the flower's names:\\n\", class_names)\n",
    "print(\"Number of files for each flower:\\n\", class_counts)"
   ]
  }
 ],
 "metadata": {
  "colab": {
   "authorship_tag": "ABX9TyObmyGcMlvdegNYoUnqWd/h",
   "provenance": [],
   "toc_visible": true
  },
  "kernelspec": {
   "display_name": "Python 3",
   "name": "python3"
  },
  "language_info": {
   "codemirror_mode": {
    "name": "ipython",
    "version": 3
   },
   "file_extension": ".py",
   "mimetype": "text/x-python",
   "name": "python",
   "nbconvert_exporter": "python",
   "pygments_lexer": "ipython3",
   "version": "3.11.9"
  }
 },
 "nbformat": 4,
 "nbformat_minor": 0
}
